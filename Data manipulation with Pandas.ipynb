{
 "cells": [
  {
   "cell_type": "markdown",
   "id": "5ec1b61f-5722-41d0-a8db-3f69186752a5",
   "metadata": {},
   "source": [
    "# **Data manipulation with Pandas: From loading file to data visualization**"
   ]
  },
  {
   "cell_type": "markdown",
   "id": "13a3cfcf-7f10-471b-bc4b-0148820f5128",
   "metadata": {},
   "source": [
    "<img src=\"https://static.wixstatic.com/media/a33eeb_5fdc385afc5449499004fdf1e871db95~mv2.png/v1/fill/w_420,h_235,al_c,lg_1,q_95/a33eeb_5fdc385afc5449499004fdf1e871db95~mv2.webp\" alt=\"Pandas\">"
   ]
  },
  {
   "cell_type": "code",
   "execution_count": 1,
   "id": "907e523d-e90d-41e5-a575-16bb678b7cac",
   "metadata": {},
   "outputs": [],
   "source": [
    "import pandas as pd"
   ]
  },
  {
   "cell_type": "markdown",
   "id": "73446e72-7432-4930-a68f-fa652680c958",
   "metadata": {},
   "source": [
    "## **Loading files**"
   ]
  },
  {
   "cell_type": "markdown",
   "id": "27a4309f-6b87-4bf9-96f1-e364e3a76b71",
   "metadata": {},
   "source": [
    "### **Json**"
   ]
  },
  {
   "cell_type": "code",
   "execution_count": 2,
   "id": "a5198ca9-9f53-49de-97be-35bb454fc844",
   "metadata": {},
   "outputs": [
    {
     "name": "stdout",
     "output_type": "stream",
     "text": [
      "<class 'pandas.core.frame.DataFrame'>\n",
      "RangeIndex: 10 entries, 0 to 9\n",
      "Data columns (total 12 columns):\n",
      " #   Column              Non-Null Count  Dtype \n",
      "---  ------              --------------  ----- \n",
      " 0   login               10 non-null     object\n",
      " 1   id                  10 non-null     int64 \n",
      " 2   node_id             10 non-null     object\n",
      " 3   url                 10 non-null     object\n",
      " 4   repos_url           10 non-null     object\n",
      " 5   events_url          10 non-null     object\n",
      " 6   hooks_url           10 non-null     object\n",
      " 7   issues_url          10 non-null     object\n",
      " 8   members_url         10 non-null     object\n",
      " 9   public_members_url  10 non-null     object\n",
      " 10  avatar_url          10 non-null     object\n",
      " 11  description         8 non-null      object\n",
      "dtypes: int64(1), object(11)\n",
      "memory usage: 1.1+ KB\n"
     ]
    }
   ],
   "source": [
    "github = pd.read_json(\"https://api.github.com/users/hadley/orgs\")\n",
    "github.info()"
   ]
  },
  {
   "cell_type": "markdown",
   "id": "cb36edd2-0b9a-4921-a527-df4e939caec0",
   "metadata": {},
   "source": [
    "### **HTML**"
   ]
  },
  {
   "cell_type": "code",
   "execution_count": 3,
   "id": "0ec72811-21df-4a79-b666-548367c3208b",
   "metadata": {},
   "outputs": [
    {
     "data": {
      "text/html": [
       "<div>\n",
       "<style scoped>\n",
       "    .dataframe tbody tr th:only-of-type {\n",
       "        vertical-align: middle;\n",
       "    }\n",
       "\n",
       "    .dataframe tbody tr th {\n",
       "        vertical-align: top;\n",
       "    }\n",
       "\n",
       "    .dataframe thead th {\n",
       "        text-align: right;\n",
       "    }\n",
       "</style>\n",
       "<table border=\"1\" class=\"dataframe\">\n",
       "  <thead>\n",
       "    <tr style=\"text-align: right;\">\n",
       "      <th></th>\n",
       "      <th>Zone géographique</th>\n",
       "      <th>Population</th>\n",
       "      <th>Pourcentage de lapopulation mondiale</th>\n",
       "    </tr>\n",
       "  </thead>\n",
       "  <tbody>\n",
       "    <tr>\n",
       "      <th>0</th>\n",
       "      <td>Asie</td>\n",
       "      <td>4 679 661 000</td>\n",
       "      <td>59,4 %</td>\n",
       "    </tr>\n",
       "    <tr>\n",
       "      <th>1</th>\n",
       "      <td>Afrique</td>\n",
       "      <td>1 373 486 000</td>\n",
       "      <td>17,4 %</td>\n",
       "    </tr>\n",
       "    <tr>\n",
       "      <th>2</th>\n",
       "      <td>Europe</td>\n",
       "      <td>747 747 000</td>\n",
       "      <td>9,5 %</td>\n",
       "    </tr>\n",
       "    <tr>\n",
       "      <th>3</th>\n",
       "      <td>Amérique latine et Caraïbes</td>\n",
       "      <td>659 744 000</td>\n",
       "      <td>8,4 %</td>\n",
       "    </tr>\n",
       "    <tr>\n",
       "      <th>4</th>\n",
       "      <td>États-Unis et Canada</td>\n",
       "      <td>371 108 000</td>\n",
       "      <td>4,7 %</td>\n",
       "    </tr>\n",
       "    <tr>\n",
       "      <th>5</th>\n",
       "      <td>Océanie</td>\n",
       "      <td>43 220 000</td>\n",
       "      <td>0,5 %</td>\n",
       "    </tr>\n",
       "    <tr>\n",
       "      <th>6</th>\n",
       "      <td>Monde</td>\n",
       "      <td>7 874 966 000</td>\n",
       "      <td>100,0 %</td>\n",
       "    </tr>\n",
       "  </tbody>\n",
       "</table>\n",
       "</div>"
      ],
      "text/plain": [
       "             Zone géographique     Population  \\\n",
       "0                         Asie  4 679 661 000   \n",
       "1                      Afrique  1 373 486 000   \n",
       "2                       Europe    747 747 000   \n",
       "3  Amérique latine et Caraïbes    659 744 000   \n",
       "4         États-Unis et Canada    371 108 000   \n",
       "5                      Océanie     43 220 000   \n",
       "6                        Monde  7 874 966 000   \n",
       "\n",
       "  Pourcentage de lapopulation mondiale  \n",
       "0                               59,4 %  \n",
       "1                               17,4 %  \n",
       "2                                9,5 %  \n",
       "3                                8,4 %  \n",
       "4                                4,7 %  \n",
       "5                                0,5 %  \n",
       "6                              100,0 %  "
      ]
     },
     "execution_count": 3,
     "metadata": {},
     "output_type": "execute_result"
    }
   ],
   "source": [
    "world_population = pd.read_html('https://fr.wikipedia.org/wiki/Population_mondiale')\n",
    "world_population[0]"
   ]
  },
  {
   "cell_type": "markdown",
   "id": "67cc240c-43b2-4a5c-952f-a14c7b155cae",
   "metadata": {},
   "source": [
    "## **Handle missing data**"
   ]
  },
  {
   "cell_type": "code",
   "execution_count": 4,
   "id": "c762a48d-16c8-49be-b219-8da3257a356b",
   "metadata": {},
   "outputs": [
    {
     "data": {
      "text/plain": [
       "0    True\n",
       "1    True\n",
       "2    True\n",
       "3    True\n",
       "4    True\n",
       "Name: GuestStars, dtype: bool"
      ]
     },
     "execution_count": 4,
     "metadata": {},
     "output_type": "execute_result"
    }
   ],
   "source": [
    "office_df = pd.read_csv(\"datasets/the_office_series.csv\")\n",
    "office_df['GuestStars'].isna().head()"
   ]
  },
  {
   "cell_type": "code",
   "execution_count": 5,
   "id": "c89de44c-71ab-4285-89c1-f1cff361cf09",
   "metadata": {},
   "outputs": [
    {
     "data": {
      "text/plain": [
       "159"
      ]
     },
     "execution_count": 5,
     "metadata": {},
     "output_type": "execute_result"
    }
   ],
   "source": [
    "office_df['GuestStars'].isna().sum()"
   ]
  },
  {
   "cell_type": "code",
   "execution_count": 6,
   "id": "3ebdb7da-f13f-4142-a714-29427c050e57",
   "metadata": {},
   "outputs": [
    {
     "data": {
      "text/plain": [
       "0        No value\n",
       "1        No value\n",
       "2        No value\n",
       "3        No value\n",
       "4        No value\n",
       "5       Amy Adams\n",
       "6        No value\n",
       "7        No value\n",
       "8    Nancy Carell\n",
       "9       Amy Adams\n",
       "Name: GuestStars, dtype: object"
      ]
     },
     "execution_count": 6,
     "metadata": {},
     "output_type": "execute_result"
    }
   ],
   "source": [
    "office_df['GuestStars'].fillna('No value').head(10)"
   ]
  },
  {
   "cell_type": "code",
   "execution_count": 7,
   "id": "700fc1a8-708b-4ce4-ab5c-b29dac3815d6",
   "metadata": {},
   "outputs": [
    {
     "data": {
      "text/plain": [
       "5        Amy Adams\n",
       "8     Nancy Carell\n",
       "9        Amy Adams\n",
       "12     Tim Meadows\n",
       "14       Ken Jeong\n",
       "Name: GuestStars, dtype: object"
      ]
     },
     "execution_count": 7,
     "metadata": {},
     "output_type": "execute_result"
    }
   ],
   "source": [
    "available_guest = office_df.loc[:,'GuestStars'].dropna()\n",
    "available_guest.head()"
   ]
  },
  {
   "cell_type": "markdown",
   "id": "49fe68e4-4940-4c38-845d-85b354bd22f4",
   "metadata": {},
   "source": [
    "## **Manipulation of string data**"
   ]
  },
  {
   "cell_type": "code",
   "execution_count": 8,
   "id": "aa7b8501-ad0c-423c-8773-c2d75c427d84",
   "metadata": {},
   "outputs": [
    {
     "data": {
      "text/plain": [
       "5      True\n",
       "8     False\n",
       "9      True\n",
       "12    False\n",
       "14    False\n",
       "Name: GuestStars, dtype: bool"
      ]
     },
     "execution_count": 8,
     "metadata": {},
     "output_type": "execute_result"
    }
   ],
   "source": [
    "available_guest.str.match('Amy Adams').head()"
   ]
  },
  {
   "cell_type": "code",
   "execution_count": 9,
   "id": "bd786f5c-b4a5-44f8-b677-85d92ba5087d",
   "metadata": {},
   "outputs": [
    {
     "data": {
      "text/plain": [
       "5        AMY ADAMS\n",
       "8     NANCY CARELL\n",
       "9        AMY ADAMS\n",
       "12     TIM MEADOWS\n",
       "14       KEN JEONG\n",
       "Name: GuestStars, dtype: object"
      ]
     },
     "execution_count": 9,
     "metadata": {},
     "output_type": "execute_result"
    }
   ],
   "source": [
    "available_guest.str.upper().head()"
   ]
  },
  {
   "cell_type": "markdown",
   "id": "93388dab-a886-46fc-87e8-0d2300c96fa9",
   "metadata": {},
   "source": [
    "## **Joining Data**"
   ]
  },
  {
   "cell_type": "code",
   "execution_count": 10,
   "id": "ee3c7b71-61e1-4eae-bcf0-dd4e88661a66",
   "metadata": {},
   "outputs": [
    {
     "data": {
      "text/html": [
       "<div>\n",
       "<style scoped>\n",
       "    .dataframe tbody tr th:only-of-type {\n",
       "        vertical-align: middle;\n",
       "    }\n",
       "\n",
       "    .dataframe tbody tr th {\n",
       "        vertical-align: top;\n",
       "    }\n",
       "\n",
       "    .dataframe thead th {\n",
       "        text-align: right;\n",
       "    }\n",
       "</style>\n",
       "<table border=\"1\" class=\"dataframe\">\n",
       "  <thead>\n",
       "    <tr style=\"text-align: right;\">\n",
       "      <th></th>\n",
       "      <th>count</th>\n",
       "    </tr>\n",
       "    <tr>\n",
       "      <th>Director</th>\n",
       "      <th></th>\n",
       "    </tr>\n",
       "  </thead>\n",
       "  <tbody>\n",
       "    <tr>\n",
       "      <th>Paul Feig</th>\n",
       "      <td>15</td>\n",
       "    </tr>\n",
       "    <tr>\n",
       "      <th>Randall Einhorn</th>\n",
       "      <td>15</td>\n",
       "    </tr>\n",
       "    <tr>\n",
       "      <th>Greg Daniels</th>\n",
       "      <td>13</td>\n",
       "    </tr>\n",
       "    <tr>\n",
       "      <th>Ken Kwapis</th>\n",
       "      <td>13</td>\n",
       "    </tr>\n",
       "    <tr>\n",
       "      <th>Jeffrey Blitz</th>\n",
       "      <td>11</td>\n",
       "    </tr>\n",
       "  </tbody>\n",
       "</table>\n",
       "</div>"
      ],
      "text/plain": [
       "                 count\n",
       "Director              \n",
       "Paul Feig           15\n",
       "Randall Einhorn     15\n",
       "Greg Daniels        13\n",
       "Ken Kwapis          13\n",
       "Jeffrey Blitz       11"
      ]
     },
     "execution_count": 10,
     "metadata": {},
     "output_type": "execute_result"
    }
   ],
   "source": [
    "director_df = office_df.groupby('Director')['EpisodeTitle'].agg(['count'])\n",
    "director_df = director_df[director_df['count'] > 10 ].sort_values('count', ascending=False)\n",
    "director_df"
   ]
  },
  {
   "cell_type": "code",
   "execution_count": 11,
   "id": "fb1337bd-9d6f-46e0-9a7b-8b717259738d",
   "metadata": {},
   "outputs": [
    {
     "data": {
      "text/html": [
       "<div>\n",
       "<style scoped>\n",
       "    .dataframe tbody tr th:only-of-type {\n",
       "        vertical-align: middle;\n",
       "    }\n",
       "\n",
       "    .dataframe tbody tr th {\n",
       "        vertical-align: top;\n",
       "    }\n",
       "\n",
       "    .dataframe thead th {\n",
       "        text-align: right;\n",
       "    }\n",
       "</style>\n",
       "<table border=\"1\" class=\"dataframe\">\n",
       "  <thead>\n",
       "    <tr style=\"text-align: right;\">\n",
       "      <th></th>\n",
       "      <th>mean</th>\n",
       "    </tr>\n",
       "    <tr>\n",
       "      <th>Director</th>\n",
       "      <th></th>\n",
       "    </tr>\n",
       "  </thead>\n",
       "  <tbody>\n",
       "    <tr>\n",
       "      <th>Alex Hardcastle</th>\n",
       "      <td>7.40</td>\n",
       "    </tr>\n",
       "    <tr>\n",
       "      <th>Amy Heckerling</th>\n",
       "      <td>7.70</td>\n",
       "    </tr>\n",
       "    <tr>\n",
       "      <th>Asaad Kelada</th>\n",
       "      <td>8.00</td>\n",
       "    </tr>\n",
       "    <tr>\n",
       "      <th>B.J. Novak</th>\n",
       "      <td>7.92</td>\n",
       "    </tr>\n",
       "    <tr>\n",
       "      <th>Brent Forrester</th>\n",
       "      <td>7.90</td>\n",
       "    </tr>\n",
       "  </tbody>\n",
       "</table>\n",
       "</div>"
      ],
      "text/plain": [
       "                 mean\n",
       "Director             \n",
       "Alex Hardcastle  7.40\n",
       "Amy Heckerling   7.70\n",
       "Asaad Kelada     8.00\n",
       "B.J. Novak       7.92\n",
       "Brent Forrester  7.90"
      ]
     },
     "execution_count": 11,
     "metadata": {},
     "output_type": "execute_result"
    }
   ],
   "source": [
    "director_mean_df = office_df.groupby('Director')['Ratings'].agg(['mean'])\n",
    "director_mean_df.head()"
   ]
  },
  {
   "cell_type": "code",
   "execution_count": 12,
   "id": "d98f2db8-bbae-4ac1-9c71-172ac2478e11",
   "metadata": {},
   "outputs": [
    {
     "data": {
      "text/html": [
       "<div>\n",
       "<style scoped>\n",
       "    .dataframe tbody tr th:only-of-type {\n",
       "        vertical-align: middle;\n",
       "    }\n",
       "\n",
       "    .dataframe tbody tr th {\n",
       "        vertical-align: top;\n",
       "    }\n",
       "\n",
       "    .dataframe thead th {\n",
       "        text-align: right;\n",
       "    }\n",
       "</style>\n",
       "<table border=\"1\" class=\"dataframe\">\n",
       "  <thead>\n",
       "    <tr style=\"text-align: right;\">\n",
       "      <th></th>\n",
       "      <th>count</th>\n",
       "      <th>mean</th>\n",
       "    </tr>\n",
       "    <tr>\n",
       "      <th>Director</th>\n",
       "      <th></th>\n",
       "      <th></th>\n",
       "    </tr>\n",
       "  </thead>\n",
       "  <tbody>\n",
       "    <tr>\n",
       "      <th>Paul Feig</th>\n",
       "      <td>15</td>\n",
       "      <td>8.753333</td>\n",
       "    </tr>\n",
       "    <tr>\n",
       "      <th>Ken Kwapis</th>\n",
       "      <td>13</td>\n",
       "      <td>8.607692</td>\n",
       "    </tr>\n",
       "    <tr>\n",
       "      <th>Greg Daniels</th>\n",
       "      <td>13</td>\n",
       "      <td>8.446154</td>\n",
       "    </tr>\n",
       "    <tr>\n",
       "      <th>Jeffrey Blitz</th>\n",
       "      <td>11</td>\n",
       "      <td>8.309091</td>\n",
       "    </tr>\n",
       "    <tr>\n",
       "      <th>Randall Einhorn</th>\n",
       "      <td>15</td>\n",
       "      <td>8.113333</td>\n",
       "    </tr>\n",
       "  </tbody>\n",
       "</table>\n",
       "</div>"
      ],
      "text/plain": [
       "                 count      mean\n",
       "Director                        \n",
       "Paul Feig           15  8.753333\n",
       "Ken Kwapis          13  8.607692\n",
       "Greg Daniels        13  8.446154\n",
       "Jeffrey Blitz       11  8.309091\n",
       "Randall Einhorn     15  8.113333"
      ]
     },
     "execution_count": 12,
     "metadata": {},
     "output_type": "execute_result"
    }
   ],
   "source": [
    "new_df = pd.merge(director_df, director_mean_df, left_index=True, right_index=True)\n",
    "new_df.sort_values('mean', ascending=False)"
   ]
  },
  {
   "cell_type": "markdown",
   "id": "5c29a730-e227-4337-b765-f1db3c17b7c1",
   "metadata": {},
   "source": [
    "## **Visualization data**"
   ]
  },
  {
   "cell_type": "code",
   "execution_count": 13,
   "id": "f2e5deec-94ba-4e01-b8e2-e54c9b9b8c46",
   "metadata": {},
   "outputs": [
    {
     "data": {
      "text/html": [
       "<div>\n",
       "<style scoped>\n",
       "    .dataframe tbody tr th:only-of-type {\n",
       "        vertical-align: middle;\n",
       "    }\n",
       "\n",
       "    .dataframe tbody tr th {\n",
       "        vertical-align: top;\n",
       "    }\n",
       "\n",
       "    .dataframe thead th {\n",
       "        text-align: right;\n",
       "    }\n",
       "</style>\n",
       "<table border=\"1\" class=\"dataframe\">\n",
       "  <thead>\n",
       "    <tr style=\"text-align: right;\">\n",
       "      <th></th>\n",
       "      <th>viewers</th>\n",
       "      <th>ratings</th>\n",
       "    </tr>\n",
       "  </thead>\n",
       "  <tbody>\n",
       "    <tr>\n",
       "      <th>19 to 27.2</th>\n",
       "      <td>6.704175</td>\n",
       "      <td>8.051456</td>\n",
       "    </tr>\n",
       "    <tr>\n",
       "      <th>27.2 to 35.4</th>\n",
       "      <td>7.811159</td>\n",
       "      <td>8.336232</td>\n",
       "    </tr>\n",
       "    <tr>\n",
       "      <th>35.4 to 43.6</th>\n",
       "      <td>7.384167</td>\n",
       "      <td>8.816667</td>\n",
       "    </tr>\n",
       "    <tr>\n",
       "      <th>43.6 to 51.8</th>\n",
       "      <td>7.055000</td>\n",
       "      <td>9.800000</td>\n",
       "    </tr>\n",
       "    <tr>\n",
       "      <th>51.8 to 60</th>\n",
       "      <td>15.045000</td>\n",
       "      <td>9.350000</td>\n",
       "    </tr>\n",
       "  </tbody>\n",
       "</table>\n",
       "</div>"
      ],
      "text/plain": [
       "                viewers   ratings\n",
       "19 to 27.2     6.704175  8.051456\n",
       "27.2 to 35.4   7.811159  8.336232\n",
       "35.4 to 43.6   7.384167  8.816667\n",
       "43.6 to 51.8   7.055000  9.800000\n",
       "51.8 to 60    15.045000  9.350000"
      ]
     },
     "execution_count": 13,
     "metadata": {},
     "output_type": "execute_result"
    }
   ],
   "source": [
    "# Function creation\n",
    "def rangeGetData(column, df):\n",
    "    return df[column].mean()\n",
    "\n",
    "# Boolean mask trick to filter data\n",
    "mean_viewers_19___27__2 = rangeGetData('Viewership', office_df[(office_df['Duration'] >= 19) & (office_df['Duration'] < 27.2)])\n",
    "mean_ratings_19___27__2 = rangeGetData('Ratings', office_df[(office_df['Duration'] >= 19) & (office_df['Duration'] < 27.2)])\n",
    "\n",
    "mean_viewers_27__2___35__4 = rangeGetData('Viewership', office_df[(office_df['Duration'] >= 27.2) & (office_df['Duration'] < 35.4)])\n",
    "mean_ratings_27__2___35__4 = rangeGetData('Ratings', office_df[(office_df['Duration'] >= 27.2) & (office_df['Duration'] < 35.4)])\n",
    "\n",
    "mean_viewers_35__4___43__6 = rangeGetData('Viewership', office_df[(office_df['Duration'] >= 35.4) & (office_df['Duration'] < 43.6)])\n",
    "mean_ratings_35__4___43__6 = rangeGetData('Ratings', office_df[(office_df['Duration'] >= 35.4) & (office_df['Duration'] < 43.6)])\n",
    "\n",
    "mean_viewers_43__6___51__8 = rangeGetData('Viewership', office_df[(office_df['Duration'] >= 43.6) & (office_df['Duration'] < 51.8)])\n",
    "mean_ratings_43__6___51__8 = rangeGetData('Ratings', office_df[(office_df['Duration'] >= 43.6) & (office_df['Duration'] < 51.8)])\n",
    "\n",
    "mean_viewers_51__8 = rangeGetData('Viewership', office_df[office_df['Duration'] >= 51.8])\n",
    "mean_ratings_51__8 = rangeGetData('Ratings', office_df[office_df['Duration'] >= 51.8])\n",
    "\n",
    "# Data frame creation\n",
    "duration_df = pd.DataFrame(\n",
    "    data={\n",
    "        'viewers': [mean_viewers_19___27__2, mean_viewers_27__2___35__4, mean_viewers_35__4___43__6, mean_viewers_43__6___51__8, mean_viewers_51__8],\n",
    "        'ratings': [mean_ratings_19___27__2, mean_ratings_27__2___35__4, mean_ratings_35__4___43__6, mean_ratings_43__6___51__8, mean_ratings_51__8]\n",
    "        },\n",
    "    index = ['19 to 27.2', '27.2 to 35.4', '35.4 to 43.6', '43.6 to 51.8', '51.8 to 60']\n",
    ")\n",
    "\n",
    "# Show data frame\n",
    "duration_df"
   ]
  },
  {
   "cell_type": "code",
   "execution_count": 14,
   "id": "db7dd94a-2567-474d-a3b8-b81c173df2e2",
   "metadata": {},
   "outputs": [
    {
     "data": {
      "text/plain": [
       "array([<AxesSubplot:>, <AxesSubplot:>], dtype=object)"
      ]
     },
     "execution_count": 14,
     "metadata": {},
     "output_type": "execute_result"
    },
    {
     "data": {
      "image/png": "[encoded data removed]",
      "text/plain": [
       "<Figure size 792x1008 with 2 Axes>"
      ]
     },
     "metadata": {
      "needs_background": "light"
     },
     "output_type": "display_data"
    }
   ],
   "source": [
    "duration_df.plot.line(subplots=True, figsize=(11, 14))"
   ]
  },
  {
   "cell_type": "code",
   "execution_count": 15,
   "id": "ae443124-afbb-4097-b7cb-6903d9512b1c",
   "metadata": {},
   "outputs": [
    {
     "data": {
      "text/plain": [
       "array([<AxesSubplot:ylabel='viewers'>, <AxesSubplot:ylabel='ratings'>],\n",
       "      dtype=object)"
      ]
     },
     "execution_count": 15,
     "metadata": {},
     "output_type": "execute_result"
    },
    {
     "data": {
      "image/png": "[encoded data removed]",
      "text/plain": [
       "<Figure size 792x1008 with 2 Axes>"
      ]
     },
     "metadata": {},
     "output_type": "display_data"
    }
   ],
   "source": [
    "duration_df.plot(kind='pie',subplots=True, figsize=(11, 14))"
   ]
  }
 ],
 "metadata": {
  "kernelspec": {
   "display_name": "Python 3 (ipykernel)",
   "language": "python",
   "name": "python3"
  },
  "language_info": {
   "codemirror_mode": {
    "name": "ipython",
    "version": 3
   },
   "file_extension": ".py",
   "mimetype": "text/x-python",
   "name": "python",
   "nbconvert_exporter": "python",
   "pygments_lexer": "ipython3",
   "version": "3.8.10"
  }
 },
 "nbformat": 4,
 "nbformat_minor": 5
}
