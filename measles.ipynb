{
 "cells": [
  {
   "cell_type": "markdown",
   "id": "creative-talent",
   "metadata": {},
   "source": [
    "# Data cleaning by pratice using Python\n",
    "\n",
    "## General introduction\n",
    "This data contains the overall and MMR-specific immunization rates for 46,412 \n",
    "schools across 32 US States. Each row corresponds to one school and includes\n",
    "a number of variables including the latitude, longitude, name, and vaccination\n",
    "rates."
   ]
  },
  {
   "cell_type": "markdown",
   "id": "original-anatomy",
   "metadata": {},
   "source": [
    "### Read Data"
   ]
  },
  {
   "cell_type": "code",
   "execution_count": 1,
   "id": "aggregate-viking",
   "metadata": {
    "name": "read-data"
   },
   "outputs": [
    {
     "data": {
      "text/html": [
       "<div>\n",
       "<style scoped>\n",
       "    .dataframe tbody tr th:only-of-type {\n",
       "        vertical-align: middle;\n",
       "    }\n",
       "\n",
       "    .dataframe tbody tr th {\n",
       "        vertical-align: top;\n",
       "    }\n",
       "\n",
       "    .dataframe thead th {\n",
       "        text-align: right;\n",
       "    }\n",
       "</style>\n",
       "<table border=\"1\" class=\"dataframe\">\n",
       "  <thead>\n",
       "    <tr style=\"text-align: right;\">\n",
       "      <th></th>\n",
       "      <th>index</th>\n",
       "      <th>state</th>\n",
       "      <th>year</th>\n",
       "      <th>name</th>\n",
       "      <th>type</th>\n",
       "      <th>city</th>\n",
       "      <th>county</th>\n",
       "      <th>district</th>\n",
       "      <th>enroll</th>\n",
       "      <th>mmr</th>\n",
       "      <th>overall</th>\n",
       "      <th>xrel</th>\n",
       "      <th>xmed</th>\n",
       "      <th>xper</th>\n",
       "      <th>lat</th>\n",
       "      <th>lng</th>\n",
       "    </tr>\n",
       "  </thead>\n",
       "  <tbody>\n",
       "    <tr>\n",
       "      <th>0</th>\n",
       "      <td>1</td>\n",
       "      <td>Arizona</td>\n",
       "      <td>2018-19</td>\n",
       "      <td>A J Mitchell Elementary</td>\n",
       "      <td>Public</td>\n",
       "      <td>Nogales</td>\n",
       "      <td>Santa Cruz</td>\n",
       "      <td>NaN</td>\n",
       "      <td>51.0</td>\n",
       "      <td>100.0</td>\n",
       "      <td>-1.0</td>\n",
       "      <td>NaN</td>\n",
       "      <td>NaN</td>\n",
       "      <td>NaN</td>\n",
       "      <td>31.347819</td>\n",
       "      <td>-110.938031</td>\n",
       "    </tr>\n",
       "    <tr>\n",
       "      <th>1</th>\n",
       "      <td>2</td>\n",
       "      <td>Arizona</td>\n",
       "      <td>2018-19</td>\n",
       "      <td>Academy Del Sol</td>\n",
       "      <td>Charter</td>\n",
       "      <td>Tucson</td>\n",
       "      <td>Pima</td>\n",
       "      <td>NaN</td>\n",
       "      <td>22.0</td>\n",
       "      <td>100.0</td>\n",
       "      <td>-1.0</td>\n",
       "      <td>NaN</td>\n",
       "      <td>NaN</td>\n",
       "      <td>NaN</td>\n",
       "      <td>32.221922</td>\n",
       "      <td>-110.896103</td>\n",
       "    </tr>\n",
       "    <tr>\n",
       "      <th>2</th>\n",
       "      <td>3</td>\n",
       "      <td>Arizona</td>\n",
       "      <td>2018-19</td>\n",
       "      <td>Academy Del Sol - Hope</td>\n",
       "      <td>Charter</td>\n",
       "      <td>Tucson</td>\n",
       "      <td>Pima</td>\n",
       "      <td>NaN</td>\n",
       "      <td>85.0</td>\n",
       "      <td>100.0</td>\n",
       "      <td>-1.0</td>\n",
       "      <td>NaN</td>\n",
       "      <td>NaN</td>\n",
       "      <td>NaN</td>\n",
       "      <td>32.130493</td>\n",
       "      <td>-111.117005</td>\n",
       "    </tr>\n",
       "    <tr>\n",
       "      <th>3</th>\n",
       "      <td>4</td>\n",
       "      <td>Arizona</td>\n",
       "      <td>2018-19</td>\n",
       "      <td>Academy Of Mathematics And Science South</td>\n",
       "      <td>Charter</td>\n",
       "      <td>Phoenix</td>\n",
       "      <td>Maricopa</td>\n",
       "      <td>NaN</td>\n",
       "      <td>60.0</td>\n",
       "      <td>100.0</td>\n",
       "      <td>-1.0</td>\n",
       "      <td>NaN</td>\n",
       "      <td>NaN</td>\n",
       "      <td>NaN</td>\n",
       "      <td>33.485447</td>\n",
       "      <td>-112.130633</td>\n",
       "    </tr>\n",
       "    <tr>\n",
       "      <th>4</th>\n",
       "      <td>5</td>\n",
       "      <td>Arizona</td>\n",
       "      <td>2018-19</td>\n",
       "      <td>Acclaim Academy</td>\n",
       "      <td>Charter</td>\n",
       "      <td>Phoenix</td>\n",
       "      <td>Maricopa</td>\n",
       "      <td>NaN</td>\n",
       "      <td>43.0</td>\n",
       "      <td>100.0</td>\n",
       "      <td>-1.0</td>\n",
       "      <td>NaN</td>\n",
       "      <td>2.33</td>\n",
       "      <td>2.33</td>\n",
       "      <td>33.495620</td>\n",
       "      <td>-112.224722</td>\n",
       "    </tr>\n",
       "    <tr>\n",
       "      <th>...</th>\n",
       "      <td>...</td>\n",
       "      <td>...</td>\n",
       "      <td>...</td>\n",
       "      <td>...</td>\n",
       "      <td>...</td>\n",
       "      <td>...</td>\n",
       "      <td>...</td>\n",
       "      <td>...</td>\n",
       "      <td>...</td>\n",
       "      <td>...</td>\n",
       "      <td>...</td>\n",
       "      <td>...</td>\n",
       "      <td>...</td>\n",
       "      <td>...</td>\n",
       "      <td>...</td>\n",
       "      <td>...</td>\n",
       "    </tr>\n",
       "    <tr>\n",
       "      <th>46406</th>\n",
       "      <td>1511</td>\n",
       "      <td>Wisconsin</td>\n",
       "      <td>2018-19</td>\n",
       "      <td>Vance Creek Amish</td>\n",
       "      <td>NaN</td>\n",
       "      <td>Prairie Farm</td>\n",
       "      <td>Barron</td>\n",
       "      <td>NaN</td>\n",
       "      <td>NaN</td>\n",
       "      <td>-1.0</td>\n",
       "      <td>-1.0</td>\n",
       "      <td>NaN</td>\n",
       "      <td>NaN</td>\n",
       "      <td>NaN</td>\n",
       "      <td>45.232586</td>\n",
       "      <td>-91.983063</td>\n",
       "    </tr>\n",
       "    <tr>\n",
       "      <th>46407</th>\n",
       "      <td>1512</td>\n",
       "      <td>Wisconsin</td>\n",
       "      <td>2018-19</td>\n",
       "      <td>Walnut Grove Amish</td>\n",
       "      <td>NaN</td>\n",
       "      <td>Hillpoint</td>\n",
       "      <td>Sauk</td>\n",
       "      <td>NaN</td>\n",
       "      <td>NaN</td>\n",
       "      <td>-1.0</td>\n",
       "      <td>-1.0</td>\n",
       "      <td>NaN</td>\n",
       "      <td>NaN</td>\n",
       "      <td>NaN</td>\n",
       "      <td>43.423794</td>\n",
       "      <td>-90.112525</td>\n",
       "    </tr>\n",
       "    <tr>\n",
       "      <th>46408</th>\n",
       "      <td>1513</td>\n",
       "      <td>Wisconsin</td>\n",
       "      <td>2018-19</td>\n",
       "      <td>Wauwatosa Virtual Academy</td>\n",
       "      <td>NaN</td>\n",
       "      <td>Wauwatosa</td>\n",
       "      <td>Milwaukee</td>\n",
       "      <td>NaN</td>\n",
       "      <td>NaN</td>\n",
       "      <td>-1.0</td>\n",
       "      <td>-1.0</td>\n",
       "      <td>NaN</td>\n",
       "      <td>NaN</td>\n",
       "      <td>NaN</td>\n",
       "      <td>43.059360</td>\n",
       "      <td>-88.063521</td>\n",
       "    </tr>\n",
       "    <tr>\n",
       "      <th>46409</th>\n",
       "      <td>1514</td>\n",
       "      <td>Wisconsin</td>\n",
       "      <td>2018-19</td>\n",
       "      <td>Weston Elementary</td>\n",
       "      <td>NaN</td>\n",
       "      <td>Weston</td>\n",
       "      <td>Marathon</td>\n",
       "      <td>NaN</td>\n",
       "      <td>NaN</td>\n",
       "      <td>-1.0</td>\n",
       "      <td>-1.0</td>\n",
       "      <td>NaN</td>\n",
       "      <td>NaN</td>\n",
       "      <td>NaN</td>\n",
       "      <td>44.910337</td>\n",
       "      <td>-89.571602</td>\n",
       "    </tr>\n",
       "    <tr>\n",
       "      <th>46410</th>\n",
       "      <td>1515</td>\n",
       "      <td>Wisconsin</td>\n",
       "      <td>2018-19</td>\n",
       "      <td>WISE Academy</td>\n",
       "      <td>NaN</td>\n",
       "      <td>Nekoosa</td>\n",
       "      <td>Wood</td>\n",
       "      <td>NaN</td>\n",
       "      <td>NaN</td>\n",
       "      <td>-1.0</td>\n",
       "      <td>-1.0</td>\n",
       "      <td>NaN</td>\n",
       "      <td>NaN</td>\n",
       "      <td>NaN</td>\n",
       "      <td>44.309343</td>\n",
       "      <td>-89.916676</td>\n",
       "    </tr>\n",
       "  </tbody>\n",
       "</table>\n",
       "<p>46411 rows × 16 columns</p>\n",
       "</div>"
      ],
      "text/plain": [
       "       index      state     year                                      name  \\\n",
       "0          1    Arizona  2018-19                   A J Mitchell Elementary   \n",
       "1          2    Arizona  2018-19                           Academy Del Sol   \n",
       "2          3    Arizona  2018-19                    Academy Del Sol - Hope   \n",
       "3          4    Arizona  2018-19  Academy Of Mathematics And Science South   \n",
       "4          5    Arizona  2018-19                           Acclaim Academy   \n",
       "...      ...        ...      ...                                       ...   \n",
       "46406   1511  Wisconsin  2018-19                         Vance Creek Amish   \n",
       "46407   1512  Wisconsin  2018-19                        Walnut Grove Amish   \n",
       "46408   1513  Wisconsin  2018-19                 Wauwatosa Virtual Academy   \n",
       "46409   1514  Wisconsin  2018-19                         Weston Elementary   \n",
       "46410   1515  Wisconsin  2018-19                              WISE Academy   \n",
       "\n",
       "          type          city      county  district  enroll    mmr  overall  \\\n",
       "0       Public       Nogales  Santa Cruz       NaN    51.0  100.0     -1.0   \n",
       "1      Charter        Tucson        Pima       NaN    22.0  100.0     -1.0   \n",
       "2      Charter        Tucson        Pima       NaN    85.0  100.0     -1.0   \n",
       "3      Charter       Phoenix    Maricopa       NaN    60.0  100.0     -1.0   \n",
       "4      Charter       Phoenix    Maricopa       NaN    43.0  100.0     -1.0   \n",
       "...        ...           ...         ...       ...     ...    ...      ...   \n",
       "46406      NaN  Prairie Farm      Barron       NaN     NaN   -1.0     -1.0   \n",
       "46407      NaN     Hillpoint        Sauk       NaN     NaN   -1.0     -1.0   \n",
       "46408      NaN     Wauwatosa   Milwaukee       NaN     NaN   -1.0     -1.0   \n",
       "46409      NaN        Weston    Marathon       NaN     NaN   -1.0     -1.0   \n",
       "46410      NaN       Nekoosa        Wood       NaN     NaN   -1.0     -1.0   \n",
       "\n",
       "      xrel  xmed  xper        lat         lng  \n",
       "0      NaN   NaN   NaN  31.347819 -110.938031  \n",
       "1      NaN   NaN   NaN  32.221922 -110.896103  \n",
       "2      NaN   NaN   NaN  32.130493 -111.117005  \n",
       "3      NaN   NaN   NaN  33.485447 -112.130633  \n",
       "4      NaN  2.33  2.33  33.495620 -112.224722  \n",
       "...    ...   ...   ...        ...         ...  \n",
       "46406  NaN   NaN   NaN  45.232586  -91.983063  \n",
       "46407  NaN   NaN   NaN  43.423794  -90.112525  \n",
       "46408  NaN   NaN   NaN  43.059360  -88.063521  \n",
       "46409  NaN   NaN   NaN  44.910337  -89.571602  \n",
       "46410  NaN   NaN   NaN  44.309343  -89.916676  \n",
       "\n",
       "[46411 rows x 16 columns]"
      ]
     },
     "execution_count": 1,
     "metadata": {},
     "output_type": "execute_result"
    }
   ],
   "source": [
    "import pandas as pd\n",
    "pd.read_csv('data/measles.csv')"
   ]
  },
  {
   "cell_type": "markdown",
   "id": "protecting-guitar",
   "metadata": {},
   "source": [
    "import pandas as pd\n",
    "pd.read_csv('data/measles.csv')### Data Dictionary\n",
    "\n",
    "|Column    |Explanation                                                              |\n",
    "| -------- | ----------------------------------------------------------------------- |\n",
    "|index     | Index ID                                                                |\n",
    "|state     | School's state                                                          |\n",
    "|year      | School academic year                                                    |\n",
    "|name      | School name                                                             |\n",
    "|type      | Whether a school is public, private, charter                            |\n",
    "|city      | City                                                                    |\n",
    "|county    | County                                                                  |\n",
    "|district  | School district                                                         |\n",
    "|enroll    | Enrollment                                                              |\n",
    "|mmr       | School's Measles, Mumps, and Rubella (MMR) vaccination rate             |\n",
    "|overall   | School's overall vaccination rate                                       |\n",
    "|xrel      | Percentage of students exempted from vaccination for religious reasons  |\n",
    "|xmed      | Percentage of students exempted from vaccination for medical reasons    |\n",
    "|xper      | Percentage of students exempted from vaccination for personal reasons   |\n",
    "\n",
    "\n",
    "This data was compiled by the [Wall Street Journal](https://github.com/WSJ/measles-data) from \n",
    "a wide variety of data sources including state education and health departments, \n",
    "and the National Center for Education Statistics.\n",
    "The data was released under the [Creative Commons Attribution-ShareAlike 4.0 International License](https://creativecommons.org/licenses/by-sa/4.0/). "
   ]
  },
  {
   "cell_type": "code",
   "execution_count": 1,
   "id": "d274a4d7-627b-4daf-a83e-1906bb1599a4",
   "metadata": {},
   "outputs": [
    {
     "data": {
      "text/html": [
       "<div>\n",
       "<style scoped>\n",
       "    .dataframe tbody tr th:only-of-type {\n",
       "        vertical-align: middle;\n",
       "    }\n",
       "\n",
       "    .dataframe tbody tr th {\n",
       "        vertical-align: top;\n",
       "    }\n",
       "\n",
       "    .dataframe thead th {\n",
       "        text-align: right;\n",
       "    }\n",
       "</style>\n",
       "<table border=\"1\" class=\"dataframe\">\n",
       "  <thead>\n",
       "    <tr style=\"text-align: right;\">\n",
       "      <th></th>\n",
       "      <th>index</th>\n",
       "      <th>state</th>\n",
       "      <th>year</th>\n",
       "      <th>name</th>\n",
       "      <th>type</th>\n",
       "      <th>city</th>\n",
       "      <th>county</th>\n",
       "      <th>district</th>\n",
       "      <th>enroll</th>\n",
       "      <th>mmr</th>\n",
       "      <th>overall</th>\n",
       "      <th>xrel</th>\n",
       "      <th>xmed</th>\n",
       "      <th>xper</th>\n",
       "      <th>lat</th>\n",
       "      <th>lng</th>\n",
       "    </tr>\n",
       "  </thead>\n",
       "  <tbody>\n",
       "    <tr>\n",
       "      <th>0</th>\n",
       "      <td>1</td>\n",
       "      <td>Arizona</td>\n",
       "      <td>2018-19</td>\n",
       "      <td>A J Mitchell Elementary</td>\n",
       "      <td>Public</td>\n",
       "      <td>Nogales</td>\n",
       "      <td>Santa Cruz</td>\n",
       "      <td>NaN</td>\n",
       "      <td>51.0</td>\n",
       "      <td>100.0</td>\n",
       "      <td>-1.0</td>\n",
       "      <td>NaN</td>\n",
       "      <td>NaN</td>\n",
       "      <td>NaN</td>\n",
       "      <td>31.347819</td>\n",
       "      <td>-110.938031</td>\n",
       "    </tr>\n",
       "    <tr>\n",
       "      <th>1</th>\n",
       "      <td>2</td>\n",
       "      <td>Arizona</td>\n",
       "      <td>2018-19</td>\n",
       "      <td>Academy Del Sol</td>\n",
       "      <td>Charter</td>\n",
       "      <td>Tucson</td>\n",
       "      <td>Pima</td>\n",
       "      <td>NaN</td>\n",
       "      <td>22.0</td>\n",
       "      <td>100.0</td>\n",
       "      <td>-1.0</td>\n",
       "      <td>NaN</td>\n",
       "      <td>NaN</td>\n",
       "      <td>NaN</td>\n",
       "      <td>32.221922</td>\n",
       "      <td>-110.896103</td>\n",
       "    </tr>\n",
       "    <tr>\n",
       "      <th>2</th>\n",
       "      <td>3</td>\n",
       "      <td>Arizona</td>\n",
       "      <td>2018-19</td>\n",
       "      <td>Academy Del Sol - Hope</td>\n",
       "      <td>Charter</td>\n",
       "      <td>Tucson</td>\n",
       "      <td>Pima</td>\n",
       "      <td>NaN</td>\n",
       "      <td>85.0</td>\n",
       "      <td>100.0</td>\n",
       "      <td>-1.0</td>\n",
       "      <td>NaN</td>\n",
       "      <td>NaN</td>\n",
       "      <td>NaN</td>\n",
       "      <td>32.130493</td>\n",
       "      <td>-111.117005</td>\n",
       "    </tr>\n",
       "    <tr>\n",
       "      <th>3</th>\n",
       "      <td>4</td>\n",
       "      <td>Arizona</td>\n",
       "      <td>2018-19</td>\n",
       "      <td>Academy Of Mathematics And Science South</td>\n",
       "      <td>Charter</td>\n",
       "      <td>Phoenix</td>\n",
       "      <td>Maricopa</td>\n",
       "      <td>NaN</td>\n",
       "      <td>60.0</td>\n",
       "      <td>100.0</td>\n",
       "      <td>-1.0</td>\n",
       "      <td>NaN</td>\n",
       "      <td>NaN</td>\n",
       "      <td>NaN</td>\n",
       "      <td>33.485447</td>\n",
       "      <td>-112.130633</td>\n",
       "    </tr>\n",
       "    <tr>\n",
       "      <th>4</th>\n",
       "      <td>5</td>\n",
       "      <td>Arizona</td>\n",
       "      <td>2018-19</td>\n",
       "      <td>Acclaim Academy</td>\n",
       "      <td>Charter</td>\n",
       "      <td>Phoenix</td>\n",
       "      <td>Maricopa</td>\n",
       "      <td>NaN</td>\n",
       "      <td>43.0</td>\n",
       "      <td>100.0</td>\n",
       "      <td>-1.0</td>\n",
       "      <td>NaN</td>\n",
       "      <td>2.33</td>\n",
       "      <td>2.33</td>\n",
       "      <td>33.495620</td>\n",
       "      <td>-112.224722</td>\n",
       "    </tr>\n",
       "  </tbody>\n",
       "</table>\n",
       "</div>"
      ],
      "text/plain": [
       "   index    state     year                                      name     type  \\\n",
       "0      1  Arizona  2018-19                   A J Mitchell Elementary   Public   \n",
       "1      2  Arizona  2018-19                           Academy Del Sol  Charter   \n",
       "2      3  Arizona  2018-19                    Academy Del Sol - Hope  Charter   \n",
       "3      4  Arizona  2018-19  Academy Of Mathematics And Science South  Charter   \n",
       "4      5  Arizona  2018-19                           Acclaim Academy  Charter   \n",
       "\n",
       "      city      county  district  enroll    mmr  overall xrel  xmed  xper  \\\n",
       "0  Nogales  Santa Cruz       NaN    51.0  100.0     -1.0  NaN   NaN   NaN   \n",
       "1   Tucson        Pima       NaN    22.0  100.0     -1.0  NaN   NaN   NaN   \n",
       "2   Tucson        Pima       NaN    85.0  100.0     -1.0  NaN   NaN   NaN   \n",
       "3  Phoenix    Maricopa       NaN    60.0  100.0     -1.0  NaN   NaN   NaN   \n",
       "4  Phoenix    Maricopa       NaN    43.0  100.0     -1.0  NaN  2.33  2.33   \n",
       "\n",
       "         lat         lng  \n",
       "0  31.347819 -110.938031  \n",
       "1  32.221922 -110.896103  \n",
       "2  32.130493 -111.117005  \n",
       "3  33.485447 -112.130633  \n",
       "4  33.495620 -112.224722  "
      ]
     },
     "execution_count": 1,
     "metadata": {},
     "output_type": "execute_result"
    }
   ],
   "source": [
    "import pandas as pd\n",
    "measles = pd.read_csv('data/measles.csv')\n",
    "measles.head()"
   ]
  },
  {
   "cell_type": "code",
   "execution_count": 2,
   "id": "f6fc5cfa-69ea-4eec-aaf2-ada0f9f69078",
   "metadata": {},
   "outputs": [
    {
     "name": "stdout",
     "output_type": "stream",
     "text": [
      "<class 'pandas.core.frame.DataFrame'>\n",
      "RangeIndex: 46411 entries, 0 to 46410\n",
      "Data columns (total 16 columns):\n",
      " #   Column    Non-Null Count  Dtype  \n",
      "---  ------    --------------  -----  \n",
      " 0   index     46411 non-null  int64  \n",
      " 1   state     46411 non-null  object \n",
      " 2   year      41730 non-null  object \n",
      " 3   name      46411 non-null  object \n",
      " 4   type      19237 non-null  object \n",
      " 5   city      29072 non-null  object \n",
      " 6   county    41253 non-null  object \n",
      " 7   district  0 non-null      float64\n",
      " 8   enroll    33567 non-null  float64\n",
      " 9   mmr       46411 non-null  float64\n",
      " 10  overall   46411 non-null  float64\n",
      " 11  xrel      94 non-null     object \n",
      " 12  xmed      12972 non-null  float64\n",
      " 13  xper      6411 non-null   float64\n",
      " 14  lat       44859 non-null  float64\n",
      " 15  lng       44859 non-null  float64\n",
      "dtypes: float64(8), int64(1), object(7)\n",
      "memory usage: 5.7+ MB\n"
     ]
    }
   ],
   "source": [
    "measles.info()"
   ]
  },
  {
   "cell_type": "markdown",
   "id": "2468e827-74e2-412d-a52a-11d19ce0f0b5",
   "metadata": {},
   "source": [
    "## Data analysis\n"
   ]
  },
  {
   "cell_type": "code",
   "execution_count": 3,
   "id": "5c81df61-b8e2-4076-a545-ce8aa358f924",
   "metadata": {},
   "outputs": [
    {
     "data": {
      "text/plain": [
       "index           0\n",
       "state           0\n",
       "year         4681\n",
       "name            0\n",
       "type        27174\n",
       "city        17339\n",
       "county       5158\n",
       "district    46411\n",
       "enroll      12844\n",
       "mmr             0\n",
       "overall         0\n",
       "xrel        46317\n",
       "xmed        33439\n",
       "xper        40000\n",
       "lat          1552\n",
       "lng          1552\n",
       "dtype: int64"
      ]
     },
     "execution_count": 3,
     "metadata": {},
     "output_type": "execute_result"
    }
   ],
   "source": [
    "measles.isna().sum()"
   ]
  },
  {
   "cell_type": "code",
   "execution_count": 4,
   "id": "0113c3ac-923d-4b2b-b2c3-16f438d07f82",
   "metadata": {},
   "outputs": [
    {
     "data": {
      "text/plain": [
       "array(['2018-19', '2017-18', nan, '2017'], dtype=object)"
      ]
     },
     "execution_count": 4,
     "metadata": {},
     "output_type": "execute_result"
    }
   ],
   "source": [
    "measles.year.unique()"
   ]
  },
  {
   "cell_type": "code",
   "execution_count": 5,
   "id": "27bf18ec-db62-4174-9105-66a5bf0307ea",
   "metadata": {},
   "outputs": [
    {
     "data": {
      "text/plain": [
       "array(['Public', 'Charter', 'Private', nan, 'Kindergarten', 'Nonpublic',\n",
       "       'BOCES'], dtype=object)"
      ]
     },
     "execution_count": 5,
     "metadata": {},
     "output_type": "execute_result"
    }
   ],
   "source": [
    "measles.type.unique()"
   ]
  },
  {
   "cell_type": "code",
   "execution_count": 6,
   "id": "277a2af8-388b-4028-bfe3-2d6fb0ae4678",
   "metadata": {},
   "outputs": [
    {
     "data": {
      "text/plain": [
       "-1.0"
      ]
     },
     "execution_count": 6,
     "metadata": {},
     "output_type": "execute_result"
    }
   ],
   "source": [
    "measles.overall.min()"
   ]
  },
  {
   "cell_type": "code",
   "execution_count": 7,
   "id": "81d119a5-ed8e-49da-9d18-8f366fa1929c",
   "metadata": {},
   "outputs": [
    {
     "data": {
      "text/plain": [
       "-1.0"
      ]
     },
     "execution_count": 7,
     "metadata": {},
     "output_type": "execute_result"
    }
   ],
   "source": [
    "measles.mmr.min()"
   ]
  },
  {
   "cell_type": "code",
   "execution_count": 8,
   "id": "86e8e9f4-90de-4c82-a454-c5fc9614a780",
   "metadata": {},
   "outputs": [
    {
     "data": {
      "text/plain": [
       "169.23"
      ]
     },
     "execution_count": 8,
     "metadata": {},
     "output_type": "execute_result"
    }
   ],
   "source": [
    "measles.xper.max()"
   ]
  },
  {
   "cell_type": "code",
   "execution_count": 9,
   "id": "7cc2e8bf-25e1-4568-b73c-9797c25cebc3",
   "metadata": {},
   "outputs": [
    {
     "data": {
      "text/plain": [
       "array([nan, True], dtype=object)"
      ]
     },
     "execution_count": 9,
     "metadata": {},
     "output_type": "execute_result"
    }
   ],
   "source": [
    "measles.xrel.unique()"
   ]
  },
  {
   "cell_type": "code",
   "execution_count": 10,
   "id": "99e54f97-6264-434b-b9a6-d2a2b35a0bd7",
   "metadata": {},
   "outputs": [
    {
     "data": {
      "text/plain": [
       "0"
      ]
     },
     "execution_count": 10,
     "metadata": {},
     "output_type": "execute_result"
    }
   ],
   "source": [
    "measles.duplicated().sum()"
   ]
  },
  {
   "cell_type": "markdown",
   "id": "6308e369-5801-4cf5-98be-7fe0a9043b47",
   "metadata": {},
   "source": [
    "## Cleaning Data"
   ]
  },
  {
   "cell_type": "code",
   "execution_count": 11,
   "id": "4820a42b-33cb-4f8a-8595-bf25b11d8aa8",
   "metadata": {},
   "outputs": [
    {
     "data": {
      "text/plain": [
       "Index(['index', 'state', 'year', 'name', 'type', 'city', 'county', 'enroll',\n",
       "       'mmr', 'overall', 'xmed', 'xper', 'lat', 'lng'],\n",
       "      dtype='object')"
      ]
     },
     "execution_count": 11,
     "metadata": {},
     "output_type": "execute_result"
    }
   ],
   "source": [
    "measles.drop('xrel', axis=1, inplace=True)\n",
    "measles.drop('district', axis=1, inplace=True)\n",
    "measles.columns"
   ]
  },
  {
   "cell_type": "code",
   "execution_count": 13,
   "id": "ba99fb83-ee27-4b46-9663-e2c294900852",
   "metadata": {},
   "outputs": [
    {
     "data": {
      "text/plain": [
       "count       46411\n",
       "unique          7\n",
       "top       Missing\n",
       "freq        27174\n",
       "Name: type, dtype: object"
      ]
     },
     "execution_count": 13,
     "metadata": {},
     "output_type": "execute_result"
    }
   ],
   "source": [
    "measles.type.astype('category')\n",
    "measles.type.describe()"
   ]
  },
  {
   "cell_type": "code",
   "execution_count": 3,
   "id": "b093aac0-95a8-464a-97c7-43169e117621",
   "metadata": {},
   "outputs": [
    {
     "data": {
      "text/plain": [
       "array(['Public', 'Charter', 'Private', 'Missing', 'Kindergarten',\n",
       "       'Nonpublic', 'BOCES'], dtype=object)"
      ]
     },
     "execution_count": 3,
     "metadata": {},
     "output_type": "execute_result"
    }
   ],
   "source": [
    "measles.loc[measles['type'].isna(), 'type'] = 'Missing'\n",
    "measles.type.unique()"
   ]
  },
  {
   "cell_type": "code",
   "execution_count": 14,
   "id": "025841bc-8b21-46a1-adea-99c0ca0d62b1",
   "metadata": {},
   "outputs": [
    {
     "data": {
      "text/plain": [
       "count       46411\n",
       "unique          7\n",
       "top       Missing\n",
       "freq        27174\n",
       "Name: type, dtype: object"
      ]
     },
     "execution_count": 14,
     "metadata": {},
     "output_type": "execute_result"
    }
   ],
   "source": [
    "measles.type.astype('category')\n",
    "measles.type.describe()"
   ]
  },
  {
   "cell_type": "code",
   "execution_count": 15,
   "id": "b0fff918-0dbd-4ce7-a23a-5cf71ef16d2a",
   "metadata": {},
   "outputs": [],
   "source": [
    "measles.loc[measles['enroll'].isna(), 'enroll'] = 0"
   ]
  },
  {
   "cell_type": "code",
   "execution_count": 16,
   "id": "418c534c-baf3-4851-bc68-50b406d26835",
   "metadata": {},
   "outputs": [
    {
     "data": {
      "text/plain": [
       "count    46411.000000\n",
       "mean        87.181595\n",
       "std        147.473288\n",
       "min          0.000000\n",
       "25%          0.000000\n",
       "50%         47.000000\n",
       "75%         95.000000\n",
       "max       6222.000000\n",
       "Name: enroll, dtype: float64"
      ]
     },
     "execution_count": 16,
     "metadata": {},
     "output_type": "execute_result"
    }
   ],
   "source": [
    "measles.enroll.astype('int64')\n",
    "measles.enroll.describe()"
   ]
  },
  {
   "cell_type": "code",
   "execution_count": 17,
   "id": "2353ff8f-e413-4679-91ec-d66f2138cf61",
   "metadata": {},
   "outputs": [],
   "source": [
    "measles.loc[measles.overall < 0, 'overall'] = 0\n",
    "measles.loc[measles.xmed < 0, 'xmed'] = 0\n",
    "measles.loc[measles.xper > 100, 'xper'] = 0\n",
    "measles.loc[measles.xmed.isna(), 'xmed'] = 0\n",
    "measles.loc[measles.xper.isna(), 'xper'] = 0\n",
    "measles.loc[measles.lat.isna(), 'lat'] = 0\n",
    "measles.loc[measles.lng.isna(), 'lng'] = 0"
   ]
  },
  {
   "cell_type": "code",
   "execution_count": 18,
   "id": "8518765a-e8e0-4882-afbc-fe07111de404",
   "metadata": {},
   "outputs": [
    {
     "data": {
      "text/plain": [
       "0        Santa Cruz\n",
       "1              Pima\n",
       "2              Pima\n",
       "3          Maricopa\n",
       "4          Maricopa\n",
       "            ...    \n",
       "46406        Barron\n",
       "46407          Sauk\n",
       "46408     Milwaukee\n",
       "46409      Marathon\n",
       "46410          Wood\n",
       "Name: county, Length: 46411, dtype: string"
      ]
     },
     "execution_count": 18,
     "metadata": {},
     "output_type": "execute_result"
    }
   ],
   "source": [
    "measles.state.astype('string')\n",
    "measles.name.astype('string')\n",
    "measles.city.astype('string')\n",
    "measles.county.astype('string')"
   ]
  },
  {
   "cell_type": "code",
   "execution_count": 19,
   "id": "de9c8783-bbd3-4eb3-98fe-fa39fbcf304d",
   "metadata": {},
   "outputs": [],
   "source": [
    "measles[['startYear', 'endYear']] = measles['year'].str.split('-', expand=True)\n",
    "measles.endYear = '20'+measles.endYear"
   ]
  },
  {
   "cell_type": "code",
   "execution_count": 20,
   "id": "52fd105d-1974-47f6-8843-6ce69a68a56c",
   "metadata": {},
   "outputs": [],
   "source": [
    "measles.drop('year', axis=1, inplace=True)"
   ]
  },
  {
   "cell_type": "code",
   "execution_count": 21,
   "id": "793c4e64-8848-45a7-9c2b-d7d25c651fe1",
   "metadata": {},
   "outputs": [],
   "source": [
    "measles.startYear = pd.to_datetime(measles.startYear, format='%Y')\n",
    "measles.endYear = pd.to_datetime(measles.endYear, format='%Y')"
   ]
  },
  {
   "cell_type": "code",
   "execution_count": 22,
   "id": "ef767e25-f638-4cd2-a985-28f47c27f5d8",
   "metadata": {},
   "outputs": [
    {
     "data": {
      "text/html": [
       "<div>\n",
       "<style scoped>\n",
       "    .dataframe tbody tr th:only-of-type {\n",
       "        vertical-align: middle;\n",
       "    }\n",
       "\n",
       "    .dataframe tbody tr th {\n",
       "        vertical-align: top;\n",
       "    }\n",
       "\n",
       "    .dataframe thead th {\n",
       "        text-align: right;\n",
       "    }\n",
       "</style>\n",
       "<table border=\"1\" class=\"dataframe\">\n",
       "  <thead>\n",
       "    <tr style=\"text-align: right;\">\n",
       "      <th></th>\n",
       "      <th>index</th>\n",
       "      <th>state</th>\n",
       "      <th>name</th>\n",
       "      <th>type</th>\n",
       "      <th>city</th>\n",
       "      <th>county</th>\n",
       "      <th>enroll</th>\n",
       "      <th>mmr</th>\n",
       "      <th>overall</th>\n",
       "      <th>xmed</th>\n",
       "      <th>xper</th>\n",
       "      <th>lat</th>\n",
       "      <th>lng</th>\n",
       "      <th>startYear</th>\n",
       "      <th>endYear</th>\n",
       "    </tr>\n",
       "  </thead>\n",
       "  <tbody>\n",
       "    <tr>\n",
       "      <th>0</th>\n",
       "      <td>1</td>\n",
       "      <td>Arizona</td>\n",
       "      <td>A J Mitchell Elementary</td>\n",
       "      <td>Public</td>\n",
       "      <td>Nogales</td>\n",
       "      <td>Santa Cruz</td>\n",
       "      <td>51.0</td>\n",
       "      <td>100.0</td>\n",
       "      <td>0.0</td>\n",
       "      <td>0.00</td>\n",
       "      <td>0.00</td>\n",
       "      <td>31.347819</td>\n",
       "      <td>-110.938031</td>\n",
       "      <td>2018-01-01</td>\n",
       "      <td>2019-01-01</td>\n",
       "    </tr>\n",
       "    <tr>\n",
       "      <th>1</th>\n",
       "      <td>2</td>\n",
       "      <td>Arizona</td>\n",
       "      <td>Academy Del Sol</td>\n",
       "      <td>Charter</td>\n",
       "      <td>Tucson</td>\n",
       "      <td>Pima</td>\n",
       "      <td>22.0</td>\n",
       "      <td>100.0</td>\n",
       "      <td>0.0</td>\n",
       "      <td>0.00</td>\n",
       "      <td>0.00</td>\n",
       "      <td>32.221922</td>\n",
       "      <td>-110.896103</td>\n",
       "      <td>2018-01-01</td>\n",
       "      <td>2019-01-01</td>\n",
       "    </tr>\n",
       "    <tr>\n",
       "      <th>2</th>\n",
       "      <td>3</td>\n",
       "      <td>Arizona</td>\n",
       "      <td>Academy Del Sol - Hope</td>\n",
       "      <td>Charter</td>\n",
       "      <td>Tucson</td>\n",
       "      <td>Pima</td>\n",
       "      <td>85.0</td>\n",
       "      <td>100.0</td>\n",
       "      <td>0.0</td>\n",
       "      <td>0.00</td>\n",
       "      <td>0.00</td>\n",
       "      <td>32.130493</td>\n",
       "      <td>-111.117005</td>\n",
       "      <td>2018-01-01</td>\n",
       "      <td>2019-01-01</td>\n",
       "    </tr>\n",
       "    <tr>\n",
       "      <th>3</th>\n",
       "      <td>4</td>\n",
       "      <td>Arizona</td>\n",
       "      <td>Academy Of Mathematics And Science South</td>\n",
       "      <td>Charter</td>\n",
       "      <td>Phoenix</td>\n",
       "      <td>Maricopa</td>\n",
       "      <td>60.0</td>\n",
       "      <td>100.0</td>\n",
       "      <td>0.0</td>\n",
       "      <td>0.00</td>\n",
       "      <td>0.00</td>\n",
       "      <td>33.485447</td>\n",
       "      <td>-112.130633</td>\n",
       "      <td>2018-01-01</td>\n",
       "      <td>2019-01-01</td>\n",
       "    </tr>\n",
       "    <tr>\n",
       "      <th>4</th>\n",
       "      <td>5</td>\n",
       "      <td>Arizona</td>\n",
       "      <td>Acclaim Academy</td>\n",
       "      <td>Charter</td>\n",
       "      <td>Phoenix</td>\n",
       "      <td>Maricopa</td>\n",
       "      <td>43.0</td>\n",
       "      <td>100.0</td>\n",
       "      <td>0.0</td>\n",
       "      <td>2.33</td>\n",
       "      <td>2.33</td>\n",
       "      <td>33.495620</td>\n",
       "      <td>-112.224722</td>\n",
       "      <td>2018-01-01</td>\n",
       "      <td>2019-01-01</td>\n",
       "    </tr>\n",
       "  </tbody>\n",
       "</table>\n",
       "</div>"
      ],
      "text/plain": [
       "   index    state                                      name     type     city  \\\n",
       "0      1  Arizona                   A J Mitchell Elementary   Public  Nogales   \n",
       "1      2  Arizona                           Academy Del Sol  Charter   Tucson   \n",
       "2      3  Arizona                    Academy Del Sol - Hope  Charter   Tucson   \n",
       "3      4  Arizona  Academy Of Mathematics And Science South  Charter  Phoenix   \n",
       "4      5  Arizona                           Acclaim Academy  Charter  Phoenix   \n",
       "\n",
       "       county  enroll    mmr  overall  xmed  xper        lat         lng  \\\n",
       "0  Santa Cruz    51.0  100.0      0.0  0.00  0.00  31.347819 -110.938031   \n",
       "1        Pima    22.0  100.0      0.0  0.00  0.00  32.221922 -110.896103   \n",
       "2        Pima    85.0  100.0      0.0  0.00  0.00  32.130493 -111.117005   \n",
       "3    Maricopa    60.0  100.0      0.0  0.00  0.00  33.485447 -112.130633   \n",
       "4    Maricopa    43.0  100.0      0.0  2.33  2.33  33.495620 -112.224722   \n",
       "\n",
       "   startYear    endYear  \n",
       "0 2018-01-01 2019-01-01  \n",
       "1 2018-01-01 2019-01-01  \n",
       "2 2018-01-01 2019-01-01  \n",
       "3 2018-01-01 2019-01-01  \n",
       "4 2018-01-01 2019-01-01  "
      ]
     },
     "execution_count": 22,
     "metadata": {},
     "output_type": "execute_result"
    }
   ],
   "source": [
    "measles.head()"
   ]
  }
 ],
 "metadata": {
  "jupytext": {
   "cell_metadata_filter": "name,-all",
   "main_language": "python",
   "notebook_metadata_filter": "-all"
  },
  "kernelspec": {
   "display_name": "Python 3 (ipykernel)",
   "language": "python",
   "name": "python3"
  },
  "language_info": {
   "codemirror_mode": {
    "name": "ipython",
    "version": 3
   },
   "file_extension": ".py",
   "mimetype": "text/x-python",
   "name": "python",
   "nbconvert_exporter": "python",
   "pygments_lexer": "ipython3",
   "version": "3.8.10"
  }
 },
 "nbformat": 4,
 "nbformat_minor": 5
}
