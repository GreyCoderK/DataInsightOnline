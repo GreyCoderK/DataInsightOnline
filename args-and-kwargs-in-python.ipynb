{
 "cells": [
  {
   "cell_type": "markdown",
   "metadata": {
    "id": "bA5ajAmk7XH6",
    "tags": []
   },
   "source": [
    "# Python Concepts for Data Science: *args and **kwargs"
   ]
  },
  {
   "cell_type": "markdown",
   "metadata": {
    "id": "f3DWM02J8bCl",
    "tags": []
   },
   "source": [
    "![presentation_image](https://static.wixstatic.com/media/a33eeb_a3cd54be76f94fea96df30fb360b77f2~mv2.jpg/v1/fill/w_1176,h_661,al_c,q_90/a33eeb_a3cd54be76f94fea96df30fb360b77f2~mv2.webp)"
   ]
  },
  {
   "cell_type": "markdown",
   "metadata": {},
   "source": [
    "## General introductionIn this article we will be interested in the use of *args and **kwargs.\n",
    "\n",
    "But first we will try to know what it represents and the different cases where we could be trying to use them.\n",
    "\n",
    "Let me tell you that it is not require to write __*args__ or __**kwargs__ and only the __\"*\"__ is require. You could have also __*vars__ and __**vars__ or with the name that is best suited to the situation.\n",
    "\n",
    "Usually __*args__ and __**kwargs__ allow  you to pass unspecified number of argument. You don't need to know how many arguments will be used."
   ]
  },
  {
   "cell_type": "markdown",
   "metadata": {},
   "source": [
    "## Using of __*args__"
   ]
  },
  {
   "cell_type": "markdown",
   "metadata": {
    "id": "Rm2MvBfC9mYK",
    "tags": []
   },
   "source": [
    "### In function"
   ]
  },
  {
   "cell_type": "markdown",
   "metadata": {},
   "source": [
    "__*args__ is use for __non-keyworded__ argument.\n",
    "\n",
    "For clarity, we'll illustrate this with a few examples. First we're going to use a function that doesn't use __*args__ and then another that uses it."
   ]
  },
  {
   "cell_type": "code",
   "execution_count": 8,
   "metadata": {},
   "outputs": [
    {
     "name": "stdout",
     "output_type": "stream",
     "text": [
      "5\n"
     ]
    }
   ],
   "source": [
    "def my_sum(a, b):\n",
    "    return a + b\n",
    "\n",
    "print(my_sum(1, 4))"
   ]
  },
  {
   "cell_type": "markdown",
   "metadata": {},
   "source": [
    "With the previous example we see that the different variables used in the program are already known. If we want the same function to be able to calculate the sum of 3 numbers we will add another argument to the function."
   ]
  },
  {
   "cell_type": "code",
   "execution_count": 9,
   "metadata": {
    "id": "6zXWKexuHxE9"
   },
   "outputs": [
    {
     "name": "stdout",
     "output_type": "stream",
     "text": [
      "10\n"
     ]
    }
   ],
   "source": [
    "def my_sum(*args):\n",
    "    result = 0\n",
    "    for x in args:\n",
    "        result += x\n",
    "    return result\n",
    "\n",
    "print(my_sum(1, 2, 3, 4))"
   ]
  },
  {
   "cell_type": "markdown",
   "metadata": {},
   "source": [
    "With our new function we have no argument limit that we want to use in the function. We find that the body of our function has changed a bit, and __*args__ behaved as if we had passed a list to our function. This function could be compared to this one."
   ]
  },
  {
   "cell_type": "code",
   "execution_count": 10,
   "metadata": {},
   "outputs": [
    {
     "name": "stdout",
     "output_type": "stream",
     "text": [
      "10\n"
     ]
    }
   ],
   "source": [
    "def my_sum(to_add_up):\n",
    "    result = 0\n",
    "    for x in to_add_up:\n",
    "        result += x\n",
    "    return result\n",
    "\n",
    "print(my_sum([1, 2, 3, 4]))"
   ]
  },
  {
   "cell_type": "markdown",
   "metadata": {},
   "source": [
    "In summary when __*args__ is used in a function it could be likened to as if we are using a list in a function parameter. Except that the arguments are added one by one to our function."
   ]
  },
  {
   "cell_type": "markdown",
   "metadata": {},
   "source": [
    "### Unpacking operators"
   ]
  },
  {
   "cell_type": "markdown",
   "metadata": {},
   "source": [
    "Unpacking operators are operators that unpack the values from iterable objects in Python. \n",
    "\n",
    "The single asterisk operator __\"*\"__ can be used on any iterable that Python provides."
   ]
  },
  {
   "cell_type": "code",
   "execution_count": 11,
   "metadata": {},
   "outputs": [
    {
     "name": "stdout",
     "output_type": "stream",
     "text": [
      "1 2 3 4\n"
     ]
    }
   ],
   "source": [
    "my_list = [1, 2, 3, 4]\n",
    "print(*my_list)"
   ]
  },
  {
   "cell_type": "markdown",
   "metadata": {},
   "source": [
    "In the previous example we were able to display all the values of our list without having to browse the values inside."
   ]
  },
  {
   "cell_type": "code",
   "execution_count": 12,
   "metadata": {},
   "outputs": [
    {
     "name": "stdout",
     "output_type": "stream",
     "text": [
      "1\n",
      "[2, 3]\n",
      "2 3\n",
      "4\n"
     ]
    }
   ],
   "source": [
    "my_list = [1, 2, 3, 4]\n",
    "first, *new_list, last = my_list\n",
    "\n",
    "print(first)\n",
    "print(new_list)\n",
    "print(*new_list)\n",
    "print(last)"
   ]
  },
  {
   "cell_type": "markdown",
   "metadata": {},
   "source": [
    "If the number of variables is not equal as in the following example we get an error."
   ]
  },
  {
   "cell_type": "code",
   "execution_count": 13,
   "metadata": {},
   "outputs": [
    {
     "ename": "ValueError",
     "evalue": "too many values to unpack (expected 3)",
     "output_type": "error",
     "traceback": [
      "\u001b[0;31m---------------------------------------------------------------------------\u001b[0m",
      "\u001b[0;31mValueError\u001b[0m                                Traceback (most recent call last)",
      "\u001b[0;32m/tmp/ipykernel_401/3832749877.py\u001b[0m in \u001b[0;36m<module>\u001b[0;34m\u001b[0m\n\u001b[1;32m      1\u001b[0m \u001b[0mmy_list\u001b[0m \u001b[0;34m=\u001b[0m \u001b[0;34m[\u001b[0m\u001b[0;36m1\u001b[0m\u001b[0;34m,\u001b[0m \u001b[0;36m2\u001b[0m\u001b[0;34m,\u001b[0m \u001b[0;36m3\u001b[0m\u001b[0;34m,\u001b[0m \u001b[0;36m4\u001b[0m\u001b[0;34m]\u001b[0m\u001b[0;34m\u001b[0m\u001b[0;34m\u001b[0m\u001b[0m\n\u001b[0;32m----> 2\u001b[0;31m \u001b[0mfirst\u001b[0m\u001b[0;34m,\u001b[0m \u001b[0msecond\u001b[0m\u001b[0;34m,\u001b[0m \u001b[0mlast\u001b[0m \u001b[0;34m=\u001b[0m \u001b[0mmy_list\u001b[0m\u001b[0;34m\u001b[0m\u001b[0;34m\u001b[0m\u001b[0m\n\u001b[0m",
      "\u001b[0;31mValueError\u001b[0m: too many values to unpack (expected 3)"
     ]
    }
   ],
   "source": [
    "my_list = [1, 2, 3, 4]\n",
    "first, second, last = my_list"
   ]
  },
  {
   "cell_type": "markdown",
   "metadata": {},
   "source": [
    "We note then that thanks to the unpacking operator __\"*\"__ we can retrieve the value of several variables directly inside a list."
   ]
  },
  {
   "cell_type": "code",
   "execution_count": 14,
   "metadata": {},
   "outputs": [
    {
     "name": "stdout",
     "output_type": "stream",
     "text": [
      "[1, 2, 3, 4, 5, 6, 7, 8, 9]\n"
     ]
    }
   ],
   "source": [
    "my_first_list = [1, 2, 3, 4]\n",
    "my_second_list = [5, 6, 7, 8, 9]\n",
    "\n",
    "my_list = [*my_first_list, *my_second_list]\n",
    "\n",
    "print(my_list)"
   ]
  },
  {
   "cell_type": "markdown",
   "metadata": {},
   "source": [
    "Finally we can use this operator to fill a list"
   ]
  },
  {
   "cell_type": "markdown",
   "metadata": {},
   "source": [
    "## Using of __**kwargs__"
   ]
  },
  {
   "cell_type": "markdown",
   "metadata": {},
   "source": [
    "### In a function"
   ]
  },
  {
   "cell_type": "markdown",
   "metadata": {},
   "source": [
    "__**kwargs__ is use for __keyworded__ argument like dictionnary.\n",
    "\n",
    "Trying to use this to a function which concatenates the words we have."
   ]
  },
  {
   "cell_type": "markdown",
   "metadata": {},
   "source": [
    "*   __Without using **kwargs__"
   ]
  },
  {
   "cell_type": "code",
   "execution_count": 16,
   "metadata": {},
   "outputs": [
    {
     "name": "stdout",
     "output_type": "stream",
     "text": [
      "Kwargs is awesome\n"
     ]
    }
   ],
   "source": [
    "def concatenate(a='', b='', c=''):\n",
    "    return a + b + c\n",
    "\n",
    "print(concatenate('Kwargs', ' is ', 'awesome'))"
   ]
  },
  {
   "cell_type": "markdown",
   "metadata": {},
   "source": [
    "In this function each argument passed has a default value, so the function can be used without parameters"
   ]
  },
  {
   "cell_type": "markdown",
   "metadata": {},
   "source": [
    "*  __Using **kwargs__"
   ]
  },
  {
   "cell_type": "code",
   "execution_count": 19,
   "metadata": {},
   "outputs": [
    {
     "name": "stdout",
     "output_type": "stream",
     "text": [
      "abc\n"
     ]
    }
   ],
   "source": [
    "def concatenate(**kwargs):\n",
    "    result = \"\"\n",
    "    for x in kwargs:\n",
    "        result += x\n",
    "    return result\n",
    "\n",
    "print(concatenate(a='Kwargs', b=' is ', c='awesome'))"
   ]
  },
  {
   "cell_type": "markdown",
   "metadata": {},
   "source": [
    "By default when we are a parameter we access keys and not values, so to have access to values we have this new version of our code."
   ]
  },
  {
   "cell_type": "code",
   "execution_count": 21,
   "metadata": {},
   "outputs": [
    {
     "name": "stdout",
     "output_type": "stream",
     "text": [
      "Kwargs is awesome\n"
     ]
    }
   ],
   "source": [
    "def concatenate(**kwargs):\n",
    "    result = \"\"\n",
    "    for x in kwargs.values():\n",
    "        result += x\n",
    "    return result\n",
    "\n",
    "print(concatenate(a='Kwargs', b=' is ', c='awesome'))"
   ]
  },
  {
   "cell_type": "markdown",
   "metadata": {},
   "source": [
    "If we use our function in the following way we will get an error."
   ]
  },
  {
   "cell_type": "code",
   "execution_count": 22,
   "metadata": {},
   "outputs": [
    {
     "ename": "TypeError",
     "evalue": "concatenate() takes 0 positional arguments but 3 were given",
     "output_type": "error",
     "traceback": [
      "\u001b[0;31m---------------------------------------------------------------------------\u001b[0m",
      "\u001b[0;31mTypeError\u001b[0m                                 Traceback (most recent call last)",
      "\u001b[0;32m/tmp/ipykernel_401/189695981.py\u001b[0m in \u001b[0;36m<module>\u001b[0;34m\u001b[0m\n\u001b[0;32m----> 1\u001b[0;31m \u001b[0mprint\u001b[0m\u001b[0;34m(\u001b[0m\u001b[0mconcatenate\u001b[0m\u001b[0;34m(\u001b[0m\u001b[0;34m'Kwargs'\u001b[0m\u001b[0;34m,\u001b[0m \u001b[0;34m' is '\u001b[0m\u001b[0;34m,\u001b[0m \u001b[0;34m'awesome'\u001b[0m\u001b[0;34m)\u001b[0m\u001b[0;34m)\u001b[0m\u001b[0;34m\u001b[0m\u001b[0;34m\u001b[0m\u001b[0m\n\u001b[0m",
      "\u001b[0;31mTypeError\u001b[0m: concatenate() takes 0 positional arguments but 3 were given"
     ]
    }
   ],
   "source": [
    "print(concatenate('Kwargs', ' is ', 'awesome'))"
   ]
  },
  {
   "cell_type": "markdown",
   "metadata": {},
   "source": [
    "As with the __*args__ argument, the __**kwargs__ argument acts as a list so each element is a dictionary."
   ]
  },
  {
   "cell_type": "markdown",
   "metadata": {},
   "source": [
    "### Unpacking operators"
   ]
  },
  {
   "cell_type": "markdown",
   "metadata": {},
   "source": [
    "As with __*args__, __**kwargs__ can be used to create another dictionary"
   ]
  },
  {
   "cell_type": "code",
   "execution_count": 23,
   "metadata": {},
   "outputs": [
    {
     "name": "stdout",
     "output_type": "stream",
     "text": [
      "{'A': 1, 'B': 2, 'C': 3, 'D': 4}\n"
     ]
    }
   ],
   "source": [
    "my_first_dict = {\"A\": 1, \"B\": 2}\n",
    "my_second_dict = {\"C\": 3, \"D\": 4}\n",
    "my_dict = {**my_first_dict, **my_second_dict}\n",
    "\n",
    "print(my_dict)"
   ]
  },
  {
   "cell_type": "markdown",
   "metadata": {},
   "source": [
    "## Using *args and **kwargs together in function"
   ]
  },
  {
   "cell_type": "markdown",
   "metadata": {},
   "source": [
    "In the event that we want to use both one or more normal variable with __*args__ and __**kwargs__, then the order of the variables matters. If they are not placed in the correct order then we will have an error.\n",
    "\n",
    "\n",
    "Here is the correct order that must be followed to be able to use them at the same time."
   ]
  },
  {
   "cell_type": "code",
   "execution_count": 24,
   "metadata": {},
   "outputs": [],
   "source": [
    "def my_func(normal, *args, **kwargs):\n",
    "    pass"
   ]
  },
  {
   "cell_type": "markdown",
   "metadata": {},
   "source": [
    "## Conclusion"
   ]
  },
  {
   "cell_type": "markdown",
   "metadata": {},
   "source": [
    "We enjoyed defining the __*args__ and __**kwargs__ arguments together,\n",
    "\n",
    "then reviewed the different use cases. We hope you enjoyed learning with us, so it can be used for you later."
   ]
  },
  {
   "cell_type": "code",
   "execution_count": null,
   "metadata": {},
   "outputs": [],
   "source": []
  }
 ],
 "metadata": {
  "colab": {
   "name": "Welcome to DataCamp Workspaces.ipynb",
   "provenance": []
  },
  "kernelspec": {
   "display_name": "Python 3 (ipykernel)",
   "language": "python",
   "name": "python3"
  },
  "language_info": {
   "codemirror_mode": {
    "name": "ipython",
    "version": 3
   },
   "file_extension": ".py",
   "mimetype": "text/x-python",
   "name": "python",
   "nbconvert_exporter": "python",
   "pygments_lexer": "ipython3",
   "version": "3.8.10"
  }
 },
 "nbformat": 4,
 "nbformat_minor": 4
}
