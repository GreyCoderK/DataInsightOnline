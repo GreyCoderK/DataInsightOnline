{
 "cells": [
  {
   "cell_type": "markdown",
   "metadata": {
    "id": "bA5ajAmk7XH6",
    "tags": []
   },
   "source": [
    "# Roman to Decimal Number Conversion with Python"
   ]
  },
  {
   "cell_type": "markdown",
   "metadata": {
    "id": "f3DWM02J8bCl",
    "tags": []
   },
   "source": [
    "![roman_to_decimal_number_introduction_image](https://static.wixstatic.com/media/a33eeb_c2aa7c4b4c1a4ced9d25e6139b59d20c~mv2.jpg)"
   ]
  },
  {
   "cell_type": "markdown",
   "metadata": {},
   "source": [
    "Roman numerals are a numeral system that originated in ancient rome. Numbers in this system are represented by combinations of letters. Modern usage employs seven symbols, each with a fixed integer value:"
   ]
  },
  {
   "cell_type": "markdown",
   "metadata": {
    "id": "Rm2MvBfC9mYK",
    "tags": []
   },
   "source": [
    "!['Default_roman_value'](https://static.wixstatic.com/media/a33eeb_598bc632d3b34a6fad4d6b505b229897~mv2.png/v1/fill/w_1176,h_181,al_c,q_95/a33eeb_598bc632d3b34a6fad4d6b505b229897~mv2.webp)"
   ]
  },
  {
   "cell_type": "markdown",
   "metadata": {},
   "source": [
    "The following image shows how Roman numerals are typically represented"
   ]
  },
  {
   "cell_type": "markdown",
   "metadata": {},
   "source": [
    "!['exemple roman number'](https://static.wixstatic.com/media/a33eeb_d4bc9471d1f44094af4c980b0ff3d7dd~mv2.jpg/v1/fill/w_1176,h_662,al_c,q_90/a33eeb_d4bc9471d1f44094af4c980b0ff3d7dd~mv2.webp)"
   ]
  },
  {
   "cell_type": "markdown",
   "metadata": {},
   "source": [
    "A number containing several decimal digits is built by appending the Roman numeral equivalent for each, from highest to lowest, as in the following examples:\n",
    "\n",
    "*   39  = XXX + IX =XXXIX.\n",
    "\n",
    "*  789 = DCC + LXXX + IX = DCCLXXXIX\n",
    "\n",
    "*    99 = XC + IX = XCIX \n",
    "\n",
    "\n",
    "**Application in code**\n",
    "\n",
    "In order to be able to convert a Roman number into a decimal, we will proceed as follows.\n",
    "\n",
    "\n",
    "Firstly, we will store the data of each number in a dictionnary like these "
   ]
  },
  {
   "cell_type": "code",
   "execution_count": 1,
   "metadata": {
    "id": "6zXWKexuHxE9"
   },
   "outputs": [],
   "source": [
    "romanNumbers = {'I': 1, 'V': 5, 'X': 10, 'L': 50, 'C': 100, 'D': 500, 'M': 1000 }"
   ]
  },
  {
   "cell_type": "markdown",
   "metadata": {},
   "source": [
    "For validate patterns we have to create a dictionnary that can content each character possible previous character."
   ]
  },
  {
   "cell_type": "code",
   "execution_count": 2,
   "metadata": {},
   "outputs": [],
   "source": [
    "previousRomanNumbers = {1: [5, 10], 10:[50, 100], 100: [500, 1000]}"
   ]
  },
  {
   "cell_type": "markdown",
   "metadata": {},
   "source": [
    "Example **V** and **X** which have the value **5** and **10** can only have **I = 1** as previous character.\n",
    "\n",
    "Also only dictionnary key can be repeated in roman number.\n",
    "\n",
    "\n",
    "Then we will create a function call romanToInt which takes a character **\"roman\"** string representing the roman number and the return type for this function is int.\n",
    "\n",
    "In our function we will create four variables **total**, **current**, **previous** and **count**. \n",
    "\n",
    "* The total variable will content the sum of each value\n",
    "\n",
    "* The current variable will content the value of the current roman number\n",
    "\n",
    "* the previous variable will content the value of the previous roman number\n",
    "\n",
    "* The count variable will number of time the current value is repeat"
   ]
  },
  {
   "cell_type": "code",
   "execution_count": 3,
   "metadata": {},
   "outputs": [],
   "source": [
    "def romanToInt(roman) -> int :\n",
    "    total = 0\n",
    "    current = 0\n",
    "    previous = 0\n",
    "    count = 0"
   ]
  },
  {
   "cell_type": "markdown",
   "metadata": {},
   "source": [
    "For the following we will iterate each character of the variable roman in order to retrieve the different values and to be able to calculate the sum and also we will check each time that the Roman number entered is indeed a valid Roman number.\n",
    "\n",
    "\n",
    "**Validation step**:\n",
    "\n",
    "* Check each value is from highest to lowest\n",
    "\n",
    "     1.   If the current value is greater than the previous value, we have to check if the previous and the current value together forms a good pattern for each iteration except the first.\n",
    "\n",
    "     2.  Check there is no character repeat more than three times.\n",
    "\n",
    "**Calculation step**:\n",
    "\n",
    "* If the current value is greater than the previous value, we  have to remove the previous value to current value. For example MCM = 1900 if we add up each value the result is 2100. So in order to correct the calculation we will subtract twice the previous value from the current value."
   ]
  },
  {
   "cell_type": "code",
   "execution_count": 4,
   "metadata": {},
   "outputs": [],
   "source": [
    "def romanToInt(roman) -> int:\n",
    "    total = 0\n",
    "    current = 0\n",
    "    previous = 0\n",
    "    count = 0\n",
    "    \n",
    "    for index in range(len(roman)):\n",
    "        current = romanNumbers[roman[index]]\n",
    "        if current > previous:\n",
    "            if previous != 0 and current not in previousRomanNumbers[previous]:\n",
    "                return 0\n",
    "            total += current - 2 * previous\n",
    "            count = 1\n",
    "        elif current == previous:\n",
    "            count += 1\n",
    "            if count > 1 and current in [5, 50, 500]:\n",
    "                return 0\n",
    "            else:\n",
    "                if count < 4 and current in [1, 10, 100, 1000]:\n",
    "                    total += current\n",
    "                else:\n",
    "                    return 0\n",
    "        else:\n",
    "            total += current\n",
    "            count = 1\n",
    "        previous = current\n",
    "        \n",
    "    return total\n"
   ]
  },
  {
   "cell_type": "markdown",
   "metadata": {},
   "source": [
    "Each time we could have a wrong roman number, our function return 0.\n",
    "\n",
    "We will now test our function with the following few elements"
   ]
  },
  {
   "cell_type": "code",
   "execution_count": 5,
   "metadata": {},
   "outputs": [
    {
     "data": {
      "text/plain": [
       "0"
      ]
     },
     "execution_count": 5,
     "metadata": {},
     "output_type": "execute_result"
    }
   ],
   "source": [
    "# Correct roman number\n",
    "romanToInt('MMMCMXCIX') #output 3999\n",
    "\n",
    "# Incorrect roman number\n",
    "romanToInt('MMXVVI') # output 0"
   ]
  },
  {
   "cell_type": "markdown",
   "metadata": {},
   "source": [
    "Although our function can convert enough numbers, it is not perfect because there are some cases that it does not take into account and can therefore be improved. \n",
    "\n",
    "\n",
    "## Full Code"
   ]
  },
  {
   "cell_type": "code",
   "execution_count": 7,
   "metadata": {},
   "outputs": [
    {
     "data": {
      "text/plain": [
       "0"
      ]
     },
     "execution_count": 7,
     "metadata": {},
     "output_type": "execute_result"
    }
   ],
   "source": [
    "previousRomanNumbers = {1: [5, 10], 10:[50, 100], 100: [500, 1000]}\n",
    "\n",
    "romanNumbers = {'I': 1, 'V': 5, 'X': 10, 'L': 50, 'C': 100, 'D': 500, 'M': 1000 }\n",
    "\n",
    "def romanToInt(roman) -> int:\n",
    "    total = 0\n",
    "    current = 0\n",
    "    previous = 0\n",
    "    count = 0\n",
    "    \n",
    "    for index in range(len(roman)):\n",
    "        current = romanNumbers[roman[index]]\n",
    "        if current > previous:\n",
    "            if previous != 0 and current not in previousRomanNumbers[previous]:\n",
    "                return 0\n",
    "            total += current - 2 * previous\n",
    "            count = 1\n",
    "        elif current == previous:\n",
    "            count += 1\n",
    "            if count > 1 and current in [5, 50, 500]:\n",
    "                return 0\n",
    "            else:\n",
    "                if count < 4 and current in [1, 10, 100, 1000]:\n",
    "                    total += current\n",
    "                else:\n",
    "                    return 0\n",
    "        else:\n",
    "            total += current\n",
    "            count = 1\n",
    "        previous = current\n",
    "        \n",
    "    return total\n",
    "\n",
    "# Correct roman number\n",
    "romanToInt('MMMCMXCIX') #output 3999\n",
    "\n",
    "# Incorrect roman number\n",
    "romanToInt('MMXVVI') # output 0"
   ]
  },
  {
   "cell_type": "markdown",
   "metadata": {},
   "source": [
    "This simple application could be used to help people not knowing how to read roman numbers to be able to decipher the value of these numbers and also to test if they are valid numbers."
   ]
  },
  {
   "cell_type": "code",
   "execution_count": null,
   "metadata": {},
   "outputs": [],
   "source": []
  },
  {
   "cell_type": "code",
   "execution_count": null,
   "metadata": {},
   "outputs": [],
   "source": []
  },
  {
   "cell_type": "code",
   "execution_count": null,
   "metadata": {},
   "outputs": [],
   "source": []
  },
  {
   "cell_type": "code",
   "execution_count": null,
   "metadata": {},
   "outputs": [],
   "source": []
  },
  {
   "cell_type": "code",
   "execution_count": null,
   "metadata": {},
   "outputs": [],
   "source": []
  },
  {
   "cell_type": "code",
   "execution_count": null,
   "metadata": {},
   "outputs": [],
   "source": []
  },
  {
   "cell_type": "code",
   "execution_count": null,
   "metadata": {},
   "outputs": [],
   "source": []
  },
  {
   "cell_type": "code",
   "execution_count": null,
   "metadata": {},
   "outputs": [],
   "source": []
  },
  {
   "cell_type": "code",
   "execution_count": null,
   "metadata": {},
   "outputs": [],
   "source": []
  },
  {
   "cell_type": "code",
   "execution_count": null,
   "metadata": {},
   "outputs": [],
   "source": []
  },
  {
   "cell_type": "code",
   "execution_count": null,
   "metadata": {},
   "outputs": [],
   "source": []
  },
  {
   "cell_type": "code",
   "execution_count": null,
   "metadata": {},
   "outputs": [],
   "source": []
  },
  {
   "cell_type": "code",
   "execution_count": null,
   "metadata": {},
   "outputs": [],
   "source": []
  },
  {
   "cell_type": "code",
   "execution_count": null,
   "metadata": {},
   "outputs": [],
   "source": []
  }
 ],
 "metadata": {
  "colab": {
   "name": "Welcome to DataCamp Workspaces.ipynb",
   "provenance": []
  },
  "kernelspec": {
   "display_name": "Python 3 (ipykernel)",
   "language": "python",
   "name": "python3"
  },
  "language_info": {
   "codemirror_mode": {
    "name": "ipython",
    "version": 3
   },
   "file_extension": ".py",
   "mimetype": "text/x-python",
   "name": "python",
   "nbconvert_exporter": "python",
   "pygments_lexer": "ipython3",
   "version": "3.8.10"
  }
 },
 "nbformat": 4,
 "nbformat_minor": 4
}
